{
 "cells": [
  {
   "cell_type": "markdown",
   "id": "aa0de661-a3d7-422e-b90a-51d937faf6bc",
   "metadata": {},
   "source": [
    "# Data Cleaning"
   ]
  },
  {
   "cell_type": "code",
   "execution_count": 2,
   "id": "4d12889b-46bd-4795-9e37-723490d6840a",
   "metadata": {},
   "outputs": [
    {
     "name": "stdout",
     "output_type": "stream",
     "text": [
      "Missing values in dataset:\n",
      " business_id       0\n",
      "name              0\n",
      "address           0\n",
      "stars             0\n",
      "review_count      0\n",
      "categories      103\n",
      "latitude          0\n",
      "longitude         0\n",
      "dtype: int64\n",
      "Number of duplicate business entries: 0\n"
     ]
    }
   ],
   "source": [
    "import pandas as pd\n",
    "\n",
    "\n",
    "business_file = 'yelp_academic_dataset_business.json'\n",
    "\n",
    "df = pd.read_json(business_file,lines=True)\n",
    "\n",
    "\n",
    "relevant_columns = ['business_id', 'name', 'address', 'stars', 'review_count', 'categories', 'latitude', 'longitude']\n",
    "df = df[relevant_columns]\n",
    "\n",
    "\n",
    "# Check for missing values in the DataFrame\n",
    "missing_values = df.isnull().sum()\n",
    "\n",
    "# Print missing values per column\n",
    "print(\"Missing values in dataset:\\n\", missing_values)\n",
    "# Count duplicate business IDs\n",
    "duplicate_count = df.duplicated(subset=['business_id']).sum()\n",
    "\n",
    "print(f\"Number of duplicate business entries: {duplicate_count}\")\n",
    "# Check the data types of each column\n",
    "\n",
    "# print(df['categories'])\n",
    "\n",
    "df['categories'] = df['categories'].apply(lambda x: list(set(x.split(', '))) if pd.notnull(x) else [])\n",
    "# Get unique categories from the dataset\n",
    "unique_categories = set([cat for sublist in df['categories'] for cat in sublist])\n",
    "\n",
    "df.to_csv('Business.csv', index=False)"
   ]
  },
  {
   "cell_type": "markdown",
   "id": "ab4e9991-1a39-455c-9832-dbc8550187c2",
   "metadata": {},
   "source": [
    "# Establishing SQL Connection"
   ]
  },
  {
   "cell_type": "code",
   "execution_count": null,
   "id": "ef9eb79e-512d-4a17-8267-ce4c6c909cf8",
   "metadata": {},
   "outputs": [],
   "source": [
    "import mysql.connector\n",
    "\n",
    "conn = mysql.connector.connect(\n",
    "    host=\"localhost\",\n",
    "    user=\"root\",\n",
    "    password=\"yelp123\",  # Replace with your actual password\n",
    "    database=\"YelpDB\"\n",
    ")\n",
    "\n",
    "cursor = conn.cursor()\n",
    "print(\"Connected to MySQL successfully!\")\n"
   ]
  },
  {
   "cell_type": "markdown",
   "id": "49419f3d-194f-4172-bed6-308e4097511e",
   "metadata": {},
   "source": [
    "# Inserting Data into Business Table"
   ]
  },
  {
   "cell_type": "code",
   "execution_count": null,
   "id": "90b399ca-3804-4b85-89a2-c7b5d57d1741",
   "metadata": {},
   "outputs": [],
   "source": [
    "# SQL Insert Query with parameterized values\n",
    "insert_query = \"\"\"\n",
    "INSERT INTO Businesses (business_id, name, address, stars, review_count, latitude, longitude)\n",
    "VALUES (%s, %s, %s, %s, %s, %s, %s)\n",
    "\"\"\"\n",
    "\n",
    "# Insert data securely using parameterized query\n",
    "for _, row in df.iterrows():\n",
    "    cursor.execute(insert_query, (\n",
    "        row['business_id'], row['name'], row['address'], row['stars'],\n",
    "        row['review_count'], row['latitude'], row['longitude']\n",
    "    ))\n",
    "\n",
    "# Commit the transaction\n",
    "conn.commit()\n",
    "print(\"✅ Business data inserted successfully using parameterized queries!\")\n"
   ]
  },
  {
   "cell_type": "markdown",
   "id": "9564c63b-b280-47db-8d6d-cbc448cf1391",
   "metadata": {},
   "source": [
    "# Inserting Data into Categories Table"
   ]
  },
  {
   "cell_type": "code",
   "execution_count": null,
   "id": "b8eaa87d-7696-480e-beb6-f84b7e01204c",
   "metadata": {},
   "outputs": [],
   "source": [
    "Insert unique categories using parameterized queries\n",
    "insert_category_query = \"INSERT INTO Categories (category_name) VALUES (%s) ON DUPLICATE KEY UPDATE category_name=category_name\"\n",
    "\n",
    "for category in unique_categories:\n",
    "    cursor.execute(insert_category_query, (category,))\n",
    "\n",
    "conn.commit()\n",
    "print(\"Categories inserted successfully!\")\n"
   ]
  },
  {
   "cell_type": "markdown",
   "id": "32c73e27-6a75-465b-aeaa-52bb3ab462e7",
   "metadata": {},
   "source": [
    "# Inserting Data into BusinessCategory Table\n",
    "### Unique Table for Mapping Categories to each Business"
   ]
  },
  {
   "cell_type": "code",
   "execution_count": null,
   "id": "584c2dd2-8f0f-4f60-8cd9-fd1063ae1793",
   "metadata": {},
   "outputs": [],
   "source": [
    "# Fetch the category mappings from the Categories table\n",
    "cursor.execute(\"SELECT category_id, category_name FROM Categories\")\n",
    "category_db_mapping = {category_name: category_id for category_id, category_name in cursor.fetchall()}\n",
    "\n",
    "# Prepare the business-category insert query\n",
    "business_category_insert_query = \"INSERT INTO BusinessCategory (business_id, category_id) VALUES (%s, %s)\"\n",
    "\n",
    "# Prepare a list to store the data for batch insertion\n",
    "insert_values = []\n",
    "\n",
    "# Iterate through the dataframe and prepare the data for insertion\n",
    "for _, row in df.iterrows():\n",
    "    business_id = row['business_id']\n",
    "    for category in row['categories']:\n",
    "        category_id = category_db_mapping.get(category)  # Get the category ID from the mapping\n",
    "        if category_id:\n",
    "            insert_values.append((business_id, category_id))  # Append the values to the list\n",
    "\n",
    "# Insert the data in batches using executemany\n",
    "if insert_values:\n",
    "    cursor.executemany(business_category_insert_query, insert_values)\n",
    "    conn.commit()  # Commit the transaction once all inserts are completed\n",
    "\n",
    "print(f\"Inserted {len(insert_values)} rows into the BusinessCategory table.\")\n"
   ]
  }
 ],
 "metadata": {
  "kernelspec": {
   "display_name": "Python 3 (ipykernel)",
   "language": "python",
   "name": "python3"
  },
  "language_info": {
   "codemirror_mode": {
    "name": "ipython",
    "version": 3
   },
   "file_extension": ".py",
   "mimetype": "text/x-python",
   "name": "python",
   "nbconvert_exporter": "python",
   "pygments_lexer": "ipython3",
   "version": "3.11.9"
  }
 },
 "nbformat": 4,
 "nbformat_minor": 5
}
